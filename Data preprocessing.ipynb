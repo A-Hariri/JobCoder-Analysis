{
 "cells": [
  {
   "cell_type": "code",
   "execution_count": 1,
   "metadata": {
    "collapsed": true
   },
   "outputs": [
    {
     "name": "stderr",
     "output_type": "stream",
     "text": [
      "[nltk_data] Downloading package punkt to\n",
      "[nltk_data]     C:\\Users\\Chitgaran\\AppData\\Roaming\\nltk_data...\n",
      "[nltk_data]   Package punkt is already up-to-date!\n",
      "[nltk_data] Downloading package stopwords to\n",
      "[nltk_data]     C:\\Users\\Chitgaran\\AppData\\Roaming\\nltk_data...\n",
      "[nltk_data]   Package stopwords is already up-to-date!\n"
     ]
    }
   ],
   "source": [
    "import pandas as pd\n",
    "import nltk\n",
    "nltk.download('punkt')\n",
    "import nltk\n",
    "nltk.download('stopwords')\n",
    "from nltk.corpus import stopwords\n",
    "stop_words = set(stopwords.words('english'))\n",
    "\n"
   ]
  },
  {
   "cell_type": "code",
   "execution_count": 2,
   "outputs": [
    {
     "name": "stderr",
     "output_type": "stream",
     "text": [
      "[nltk_data] Downloading package wordnet to\n",
      "[nltk_data]     C:\\Users\\Chitgaran\\AppData\\Roaming\\nltk_data...\n",
      "[nltk_data]   Package wordnet is already up-to-date!\n",
      "[nltk_data] Downloading package omw-1.4 to\n",
      "[nltk_data]     C:\\Users\\Chitgaran\\AppData\\Roaming\\nltk_data...\n",
      "[nltk_data]   Package omw-1.4 is already up-to-date!\n",
      "[nltk_data] Downloading package averaged_perceptron_tagger to\n",
      "[nltk_data]     C:\\Users\\Chitgaran\\AppData\\Roaming\\nltk_data...\n",
      "[nltk_data]   Package averaged_perceptron_tagger is already up-to-\n",
      "[nltk_data]       date!\n"
     ]
    },
    {
     "data": {
      "text/plain": "True"
     },
     "execution_count": 2,
     "metadata": {},
     "output_type": "execute_result"
    }
   ],
   "source": [
    "import nltk\n",
    "nltk.download('wordnet')\n",
    "nltk.download('omw-1.4')\n",
    "nltk.download('averaged_perceptron_tagger')"
   ],
   "metadata": {
    "collapsed": false
   }
  },
  {
   "cell_type": "code",
   "execution_count": 3,
   "outputs": [
    {
     "data": {
      "text/plain": "      Unnamed: 0.1  Unnamed: 0  \\\n0                0           0   \n1                1           1   \n2                2           2   \n4                4           4   \n5                5           5   \n...            ...         ...   \n1072          1072          14   \n1073          1073          15   \n1074          1074          16   \n1075          1075          17   \n1077          1077          19   \n\n                                                    tag  \\\n0     Active Directory Server Virtualization (ESX,VM...   \n1     MCSA MTCNA A+ Security+ Network+ Linux DHCP Ac...   \n2              Server Virtualization (ESX,VMware and …)   \n4     C Sql Server MySql Microsoft Powerpoint CCNA P...   \n5     GIT Gitlab Ansible Linux Zabbix Prometheos Doc...   \n...                                                 ...   \n1072  Sql Server Microsoft Word Microsoft Excel همکا...   \n1073                                    کاردانی کاردانی   \n1074                                      Security+ CEH   \n1075                                 Security+ Network+   \n1077                 Windows Server Sql Server Network+   \n\n                                            discription salary  \\\n0     تسلط به مفاهیم امنیت شبکه و حفظ و ارتقای آن\\nت...   none   \n1     ما در تیم فنی ماهان شبکه ایرانیان نیاز به یک م...   none   \n2     یکی از بخش های زیرمجموعه صنعت نفت به منظور تام...   none   \n4     آشنا به زبان های برنامه نویسی و طراحی و توسعه ...   none   \n5     Job Description:\\n● Perform routine administra...   none   \n...                                                 ...    ...   \n1072  (راهبرسیستم های راهکاران همکاران سیستم)(پشتیبا...   none   \n1073  شرح شغل:\\n- تسلط بر فیبر نوری و شبکه های مبتنی...   none   \n1074  وظایف تخصصی:\\nتشخیص  حملات سایبری و ارائه راهک...   none   \n1075  شرح شغل : \\nآماده سازی رایانه ها ( نصب ویندوز ...   none   \n1077  ما اینجا در سروشان پارس، مشتاقیم به اضافه شدن ...   none   \n\n                                         discription_tr  \n0     Mastering the concepts of network security and...  \n1     We need a technical manager to guide the techn...  \n2     One of the sub -sectors of the oil industry to...  \n4     Familiar with programming and software develop...  \n5     Job Description:\\n● Perform routine administra...  \n...                                                 ...  \n1072  (System Partners Solutions System) (System Sof...  \n1073  job description:\\n- Mastery of optical fiber a...  \n1074  Specialized tasks:\\nDetecting cyber attacks an...  \n1075  job description :\\nPCs Preparation (Windows In...  \n1077  Here in Soroush Pars, we are eager to add new ...  \n\n[985 rows x 6 columns]",
      "text/html": "<div>\n<style scoped>\n    .dataframe tbody tr th:only-of-type {\n        vertical-align: middle;\n    }\n\n    .dataframe tbody tr th {\n        vertical-align: top;\n    }\n\n    .dataframe thead th {\n        text-align: right;\n    }\n</style>\n<table border=\"1\" class=\"dataframe\">\n  <thead>\n    <tr style=\"text-align: right;\">\n      <th></th>\n      <th>Unnamed: 0.1</th>\n      <th>Unnamed: 0</th>\n      <th>tag</th>\n      <th>discription</th>\n      <th>salary</th>\n      <th>discription_tr</th>\n    </tr>\n  </thead>\n  <tbody>\n    <tr>\n      <th>0</th>\n      <td>0</td>\n      <td>0</td>\n      <td>Active Directory Server Virtualization (ESX,VM...</td>\n      <td>تسلط به مفاهیم امنیت شبکه و حفظ و ارتقای آن\\nت...</td>\n      <td>none</td>\n      <td>Mastering the concepts of network security and...</td>\n    </tr>\n    <tr>\n      <th>1</th>\n      <td>1</td>\n      <td>1</td>\n      <td>MCSA MTCNA A+ Security+ Network+ Linux DHCP Ac...</td>\n      <td>ما در تیم فنی ماهان شبکه ایرانیان نیاز به یک م...</td>\n      <td>none</td>\n      <td>We need a technical manager to guide the techn...</td>\n    </tr>\n    <tr>\n      <th>2</th>\n      <td>2</td>\n      <td>2</td>\n      <td>Server Virtualization (ESX,VMware and …)</td>\n      <td>یکی از بخش های زیرمجموعه صنعت نفت به منظور تام...</td>\n      <td>none</td>\n      <td>One of the sub -sectors of the oil industry to...</td>\n    </tr>\n    <tr>\n      <th>4</th>\n      <td>4</td>\n      <td>4</td>\n      <td>C Sql Server MySql Microsoft Powerpoint CCNA P...</td>\n      <td>آشنا به زبان های برنامه نویسی و طراحی و توسعه ...</td>\n      <td>none</td>\n      <td>Familiar with programming and software develop...</td>\n    </tr>\n    <tr>\n      <th>5</th>\n      <td>5</td>\n      <td>5</td>\n      <td>GIT Gitlab Ansible Linux Zabbix Prometheos Doc...</td>\n      <td>Job Description:\\n● Perform routine administra...</td>\n      <td>none</td>\n      <td>Job Description:\\n● Perform routine administra...</td>\n    </tr>\n    <tr>\n      <th>...</th>\n      <td>...</td>\n      <td>...</td>\n      <td>...</td>\n      <td>...</td>\n      <td>...</td>\n      <td>...</td>\n    </tr>\n    <tr>\n      <th>1072</th>\n      <td>1072</td>\n      <td>14</td>\n      <td>Sql Server Microsoft Word Microsoft Excel همکا...</td>\n      <td>(راهبرسیستم های راهکاران همکاران سیستم)(پشتیبا...</td>\n      <td>none</td>\n      <td>(System Partners Solutions System) (System Sof...</td>\n    </tr>\n    <tr>\n      <th>1073</th>\n      <td>1073</td>\n      <td>15</td>\n      <td>کاردانی کاردانی</td>\n      <td>شرح شغل:\\n- تسلط بر فیبر نوری و شبکه های مبتنی...</td>\n      <td>none</td>\n      <td>job description:\\n- Mastery of optical fiber a...</td>\n    </tr>\n    <tr>\n      <th>1074</th>\n      <td>1074</td>\n      <td>16</td>\n      <td>Security+ CEH</td>\n      <td>وظایف تخصصی:\\nتشخیص  حملات سایبری و ارائه راهک...</td>\n      <td>none</td>\n      <td>Specialized tasks:\\nDetecting cyber attacks an...</td>\n    </tr>\n    <tr>\n      <th>1075</th>\n      <td>1075</td>\n      <td>17</td>\n      <td>Security+ Network+</td>\n      <td>شرح شغل : \\nآماده سازی رایانه ها ( نصب ویندوز ...</td>\n      <td>none</td>\n      <td>job description :\\nPCs Preparation (Windows In...</td>\n    </tr>\n    <tr>\n      <th>1077</th>\n      <td>1077</td>\n      <td>19</td>\n      <td>Windows Server Sql Server Network+</td>\n      <td>ما اینجا در سروشان پارس، مشتاقیم به اضافه شدن ...</td>\n      <td>none</td>\n      <td>Here in Soroush Pars, we are eager to add new ...</td>\n    </tr>\n  </tbody>\n</table>\n<p>985 rows × 6 columns</p>\n</div>"
     },
     "execution_count": 3,
     "metadata": {},
     "output_type": "execute_result"
    }
   ],
   "source": [
    "df = pd.read_csv(r\"D:\\pycharm projects\\crawl linkedin\\data\\jobvision\\result\\translation\\result_network_tr.csv\")\n",
    "#,encoding= 'unicode_escape'\n",
    "df = df.dropna()\n",
    "df"
   ],
   "metadata": {
    "collapsed": false
   }
  },
  {
   "cell_type": "code",
   "execution_count": 4,
   "outputs": [
    {
     "name": "stdout",
     "output_type": "stream",
     "text": [
      "<class 'pandas.core.frame.DataFrame'>\n",
      "Index: 985 entries, 0 to 1077\n",
      "Data columns (total 6 columns):\n",
      " #   Column          Non-Null Count  Dtype \n",
      "---  ------          --------------  ----- \n",
      " 0   Unnamed: 0.1    985 non-null    int64 \n",
      " 1   Unnamed: 0      985 non-null    int64 \n",
      " 2   tag             985 non-null    object\n",
      " 3   discription     985 non-null    object\n",
      " 4   salary          985 non-null    object\n",
      " 5   discription_tr  985 non-null    object\n",
      "dtypes: int64(2), object(4)\n",
      "memory usage: 53.9+ KB\n",
      "None\n",
      "   Unnamed: 0.1  Unnamed: 0  \\\n",
      "0             0           0   \n",
      "1             1           1   \n",
      "2             2           2   \n",
      "4             4           4   \n",
      "5             5           5   \n",
      "\n",
      "                                                 tag  \\\n",
      "0  Active Directory Server Virtualization (ESX,VM...   \n",
      "1  MCSA MTCNA A+ Security+ Network+ Linux DHCP Ac...   \n",
      "2           Server Virtualization (ESX,VMware and …)   \n",
      "4  C Sql Server MySql Microsoft Powerpoint CCNA P...   \n",
      "5  GIT Gitlab Ansible Linux Zabbix Prometheos Doc...   \n",
      "\n",
      "                                         discription salary  \\\n",
      "0  تسلط به مفاهیم امنیت شبکه و حفظ و ارتقای آن\\nت...   none   \n",
      "1  ما در تیم فنی ماهان شبکه ایرانیان نیاز به یک م...   none   \n",
      "2  یکی از بخش های زیرمجموعه صنعت نفت به منظور تام...   none   \n",
      "4  آشنا به زبان های برنامه نویسی و طراحی و توسعه ...   none   \n",
      "5  Job Description:\\n● Perform routine administra...   none   \n",
      "\n",
      "                                      discription_tr  \n",
      "0  Mastering the concepts of network security and...  \n",
      "1  We need a technical manager to guide the techn...  \n",
      "2  One of the sub -sectors of the oil industry to...  \n",
      "4  Familiar with programming and software develop...  \n",
      "5  Job Description:\\n● Perform routine administra...  \n",
      "      Unnamed: 0.1  Unnamed: 0  \\\n",
      "1072          1072          14   \n",
      "1073          1073          15   \n",
      "1074          1074          16   \n",
      "1075          1075          17   \n",
      "1077          1077          19   \n",
      "\n",
      "                                                    tag  \\\n",
      "1072  Sql Server Microsoft Word Microsoft Excel همکا...   \n",
      "1073                                    کاردانی کاردانی   \n",
      "1074                                      Security+ CEH   \n",
      "1075                                 Security+ Network+   \n",
      "1077                 Windows Server Sql Server Network+   \n",
      "\n",
      "                                            discription salary  \\\n",
      "1072  (راهبرسیستم های راهکاران همکاران سیستم)(پشتیبا...   none   \n",
      "1073  شرح شغل:\\n- تسلط بر فیبر نوری و شبکه های مبتنی...   none   \n",
      "1074  وظایف تخصصی:\\nتشخیص  حملات سایبری و ارائه راهک...   none   \n",
      "1075  شرح شغل : \\nآماده سازی رایانه ها ( نصب ویندوز ...   none   \n",
      "1077  ما اینجا در سروشان پارس، مشتاقیم به اضافه شدن ...   none   \n",
      "\n",
      "                                         discription_tr  \n",
      "1072  (System Partners Solutions System) (System Sof...  \n",
      "1073  job description:\\n- Mastery of optical fiber a...  \n",
      "1074  Specialized tasks:\\nDetecting cyber attacks an...  \n",
      "1075  job description :\\nPCs Preparation (Windows In...  \n",
      "1077  Here in Soroush Pars, we are eager to add new ...  \n"
     ]
    }
   ],
   "source": [
    "print(df.info())\n",
    "print(df.head())\n",
    "print(df.tail())\n"
   ],
   "metadata": {
    "collapsed": false
   }
  },
  {
   "cell_type": "code",
   "execution_count": 5,
   "outputs": [
    {
     "name": "stdout",
     "output_type": "stream",
     "text": [
      "35\n"
     ]
    }
   ],
   "source": [
    "df_d=df[df.duplicated(subset=['discription_tr'], keep='last')]\n",
    "print(len(df_d))\n",
    "df_d.to_csv('df_duplicates.csv',index=False)"
   ],
   "metadata": {
    "collapsed": false
   }
  },
  {
   "cell_type": "code",
   "execution_count": 6,
   "outputs": [
    {
     "name": "stdout",
     "output_type": "stream",
     "text": [
      "950\n",
      "   Unnamed: 0.1  Unnamed: 0  \\\n",
      "0             0           0   \n",
      "1             1           1   \n",
      "2             2           2   \n",
      "4             4           4   \n",
      "5             5           5   \n",
      "\n",
      "                                                 tag  \\\n",
      "0  Active Directory Server Virtualization (ESX,VM...   \n",
      "1  MCSA MTCNA A+ Security+ Network+ Linux DHCP Ac...   \n",
      "2           Server Virtualization (ESX,VMware and …)   \n",
      "4  C Sql Server MySql Microsoft Powerpoint CCNA P...   \n",
      "5  GIT Gitlab Ansible Linux Zabbix Prometheos Doc...   \n",
      "\n",
      "                                         discription salary  \\\n",
      "0  تسلط به مفاهیم امنیت شبکه و حفظ و ارتقای آن\\nت...   none   \n",
      "1  ما در تیم فنی ماهان شبکه ایرانیان نیاز به یک م...   none   \n",
      "2  یکی از بخش های زیرمجموعه صنعت نفت به منظور تام...   none   \n",
      "4  آشنا به زبان های برنامه نویسی و طراحی و توسعه ...   none   \n",
      "5  Job Description:\\n● Perform routine administra...   none   \n",
      "\n",
      "                                      discription_tr  \n",
      "0  Mastering the concepts of network security and...  \n",
      "1  We need a technical manager to guide the techn...  \n",
      "2  One of the sub -sectors of the oil industry to...  \n",
      "4  Familiar with programming and software develop...  \n",
      "5  Job Description:\\n● Perform routine administra...  \n",
      "      Unnamed: 0.1  Unnamed: 0  \\\n",
      "1072          1072          14   \n",
      "1073          1073          15   \n",
      "1074          1074          16   \n",
      "1075          1075          17   \n",
      "1077          1077          19   \n",
      "\n",
      "                                                    tag  \\\n",
      "1072  Sql Server Microsoft Word Microsoft Excel همکا...   \n",
      "1073                                    کاردانی کاردانی   \n",
      "1074                                      Security+ CEH   \n",
      "1075                                 Security+ Network+   \n",
      "1077                 Windows Server Sql Server Network+   \n",
      "\n",
      "                                            discription salary  \\\n",
      "1072  (راهبرسیستم های راهکاران همکاران سیستم)(پشتیبا...   none   \n",
      "1073  شرح شغل:\\n- تسلط بر فیبر نوری و شبکه های مبتنی...   none   \n",
      "1074  وظایف تخصصی:\\nتشخیص  حملات سایبری و ارائه راهک...   none   \n",
      "1075  شرح شغل : \\nآماده سازی رایانه ها ( نصب ویندوز ...   none   \n",
      "1077  ما اینجا در سروشان پارس، مشتاقیم به اضافه شدن ...   none   \n",
      "\n",
      "                                         discription_tr  \n",
      "1072  (System Partners Solutions System) (System Sof...  \n",
      "1073  job description:\\n- Mastery of optical fiber a...  \n",
      "1074  Specialized tasks:\\nDetecting cyber attacks an...  \n",
      "1075  job description :\\nPCs Preparation (Windows In...  \n",
      "1077  Here in Soroush Pars, we are eager to add new ...  \n"
     ]
    }
   ],
   "source": [
    "df_nd=df.drop_duplicates(subset=['discription_tr'],keep='last').copy()\n",
    "print(len(df_nd))\n",
    "print(df_nd.head())\n",
    "print(df_nd.tail())\n",
    "df_nd.to_csv('df_noduplicates.csv',header=False)"
   ],
   "metadata": {
    "collapsed": false
   }
  },
  {
   "cell_type": "code",
   "execution_count": 7,
   "outputs": [],
   "source": [
    "# convert stringified list to list\n",
    "def strg_list_to_list(strg_list):\n",
    "  return strg_list.strip(\"[]\").replace(\"'\",\"\").replace('\"',\"\").replace(\",\",\"\").split()\n"
   ],
   "metadata": {
    "collapsed": false
   }
  },
  {
   "cell_type": "markdown",
   "source": [
    "# Define Preprocessing Functions"
   ],
   "metadata": {
    "collapsed": false
   }
  },
  {
   "cell_type": "markdown",
   "source": [
    "## 1.Pretokenization task"
   ],
   "metadata": {
    "collapsed": false
   }
  },
  {
   "cell_type": "code",
   "execution_count": 8,
   "outputs": [],
   "source": [
    "#the following pre-tokenization receives string as input parameter\n",
    "#and returns string as output\n",
    "import re\n",
    "import contractions\n",
    "\n",
    "def remove_hyperlink(text):\n",
    "  return re.sub(r'http\\S+','', text) # r=raw \\S=string\n",
    "\n",
    "def r_punc(text):\n",
    "\n",
    "    punc = '''!()[]{}|;:'\"\\,<>./?@#$£%^&*_~“”…‘’'''\n",
    "    for ele in text:\n",
    "        if ele in punc:\n",
    "            text = text.replace(ele, \" \")\n",
    "    return text\n",
    "\n",
    "def remove_number(text):\n",
    "\n",
    "    punc = '0123456789'\n",
    "    for ele in text:\n",
    "        if ele in punc:\n",
    "            text = text.replace(ele, \"\")\n",
    "    return text\n",
    "\n",
    "def remove_escape_sequence(text):\n",
    "  return re.sub(r'\\n',' ', text)\n",
    "\n",
    "def remove_extra_spaces(text):\n",
    "  return  re.sub(r\"\\s+\",\" \", text)\n",
    "\n",
    "def remove_contraction(text):\n",
    "  return ' '.join([contractions.fix(word) for word in text.split()])\n",
    "\n",
    "def remove_stopwords(text):\n",
    "  return \" \".join([word for word in text.split() if word not in stop_words])\n",
    "\n",
    "def lowercase_alpha(list_token):\n",
    "  return list_token.lower()\n",
    "\n",
    "def pretokenization_cleaning(text):\n",
    "  text=remove_escape_sequence(text)\n",
    "  text=remove_hyperlink(text)\n",
    "  text=remove_extra_spaces(text)\n",
    "  text=remove_stopwords(text)\n",
    "  text=remove_number(text)\n",
    "  text=lowercase_alpha(text)\n",
    "  text=remove_contraction(text)\n",
    "\n",
    "  text=r_punc(text)\n",
    "  return text\n",
    "\n",
    "\n",
    "\n"
   ],
   "metadata": {
    "collapsed": false
   }
  },
  {
   "cell_type": "markdown",
   "source": [
    "## 2. Tokenization task"
   ],
   "metadata": {
    "collapsed": false
   }
  },
  {
   "cell_type": "code",
   "execution_count": 9,
   "outputs": [],
   "source": [
    "from nltk.tokenize import word_tokenize\n",
    "def tokenize(text):\n",
    "  tknzr = word_tokenize(text)\n",
    "  return tknzr"
   ],
   "metadata": {
    "collapsed": false
   }
  },
  {
   "cell_type": "markdown",
   "source": [
    "## 3. Normalizing task using Stemmer"
   ],
   "metadata": {
    "collapsed": false
   }
  },
  {
   "cell_type": "code",
   "execution_count": 10,
   "outputs": [],
   "source": [
    "#Normalizing task using Stemmer\n",
    "import nltk\n",
    "def stemming(unkn_input):\n",
    "  porter = nltk.PorterStemmer()\n",
    "  if (isinstance(unkn_input,list)):\n",
    "    list_input=unkn_input\n",
    "  if (isinstance(unkn_input,str)):\n",
    "    list_input=strg_list_to_list(unkn_input)\n",
    "  list_stemmed=[]\n",
    "  for word in list_input:\n",
    "    word=porter.stem(word)\n",
    "    list_stemmed.append(word)\n",
    "  #return \" \".join(list_stemmed) #use this to return a string\n",
    "  return list_stemmed #use this to return a list"
   ],
   "metadata": {
    "collapsed": false
   }
  },
  {
   "cell_type": "markdown",
   "source": [
    "## 4. Normalizing task using Lemmatizer"
   ],
   "metadata": {
    "collapsed": false
   }
  },
  {
   "cell_type": "code",
   "execution_count": 11,
   "outputs": [],
   "source": [
    "#Normalizing task using Lemmatizer\n",
    "import nltk\n",
    "from nltk.stem import WordNetLemmatizer\n",
    "from nltk.corpus import wordnet\n",
    "\n",
    "lemmatizer = WordNetLemmatizer()\n",
    "\n",
    "def nltk_pos_tagger(nltk_tag):\n",
    "    if nltk_tag.startswith('J'):\n",
    "        return wordnet.ADJ\n",
    "    elif nltk_tag.startswith('V'):\n",
    "        return wordnet.VERB\n",
    "    elif nltk_tag.startswith('N'):\n",
    "        return wordnet.NOUN\n",
    "    elif nltk_tag.startswith('R'):\n",
    "        return wordnet.ADV\n",
    "    else:\n",
    "        return None\n",
    "\n",
    "\n",
    "#lemmatize requires list input\n",
    "def lemmatize(unkn_input):\n",
    "    if (isinstance(unkn_input,list)):\n",
    "      list_input=unkn_input\n",
    "    if (isinstance(unkn_input,str)):\n",
    "      list_input=strg_list_to_list(unkn_input)\n",
    "    list_sentence = [item.lower() for item in list_input]\n",
    "    nltk_tagged = nltk.pos_tag(list_sentence)\n",
    "    wordnet_tagged = map(lambda x: (x[0], nltk_pos_tagger(x[1])),nltk_tagged)\n",
    "\n",
    "    lemmatized_sentence = []\n",
    "    for word, tag in wordnet_tagged:\n",
    "        if tag is None:\n",
    "            lemmatized_sentence.append(word)\n",
    "        else:\n",
    "            lemmatized_sentence.append(lemmatizer.lemmatize(word, tag))\n",
    "        #\" \".join(lemmatized_sentence)\n",
    "    return lemmatized_sentence"
   ],
   "metadata": {
    "collapsed": false
   }
  },
  {
   "cell_type": "markdown",
   "source": [
    "## 5. PostTokenization task"
   ],
   "metadata": {
    "collapsed": false
   }
  },
  {
   "cell_type": "markdown",
   "source": [
    "# Run Preprocessing Tasks"
   ],
   "metadata": {
    "collapsed": false
   }
  },
  {
   "cell_type": "markdown",
   "source": [
    "## 1. Pretokenization"
   ],
   "metadata": {
    "collapsed": false
   }
  },
  {
   "cell_type": "code",
   "execution_count": 12,
   "outputs": [
    {
     "data": {
      "text/plain": "      Unnamed: 0.1  Unnamed: 0  \\\n0                0           0   \n1                1           1   \n2                2           2   \n4                4           4   \n5                5           5   \n...            ...         ...   \n1072          1072          14   \n1073          1073          15   \n1074          1074          16   \n1075          1075          17   \n1077          1077          19   \n\n                                                    tag  \\\n0     Active Directory Server Virtualization (ESX,VM...   \n1     MCSA MTCNA A+ Security+ Network+ Linux DHCP Ac...   \n2              Server Virtualization (ESX,VMware and …)   \n4     C Sql Server MySql Microsoft Powerpoint CCNA P...   \n5     GIT Gitlab Ansible Linux Zabbix Prometheos Doc...   \n...                                                 ...   \n1072  Sql Server Microsoft Word Microsoft Excel همکا...   \n1073                                    کاردانی کاردانی   \n1074                                      Security+ CEH   \n1075                                 Security+ Network+   \n1077                 Windows Server Sql Server Network+   \n\n                                            discription salary  \\\n0     تسلط به مفاهیم امنیت شبکه و حفظ و ارتقای آن\\nت...   none   \n1     ما در تیم فنی ماهان شبکه ایرانیان نیاز به یک م...   none   \n2     یکی از بخش های زیرمجموعه صنعت نفت به منظور تام...   none   \n4     آشنا به زبان های برنامه نویسی و طراحی و توسعه ...   none   \n5     Job Description:\\n● Perform routine administra...   none   \n...                                                 ...    ...   \n1072  (راهبرسیستم های راهکاران همکاران سیستم)(پشتیبا...   none   \n1073  شرح شغل:\\n- تسلط بر فیبر نوری و شبکه های مبتنی...   none   \n1074  وظایف تخصصی:\\nتشخیص  حملات سایبری و ارائه راهک...   none   \n1075  شرح شغل : \\nآماده سازی رایانه ها ( نصب ویندوز ...   none   \n1077  ما اینجا در سروشان پارس، مشتاقیم به اضافه شدن ...   none   \n\n                                         discription_tr  \\\n0     Mastering the concepts of network security and...   \n1     We need a technical manager to guide the techn...   \n2     One of the sub -sectors of the oil industry to...   \n4     Familiar with programming and software develop...   \n5     Job Description:\\n● Perform routine administra...   \n...                                                 ...   \n1072  (System Partners Solutions System) (System Sof...   \n1073  job description:\\n- Mastery of optical fiber a...   \n1074  Specialized tasks:\\nDetecting cyber attacks an...   \n1075  job description :\\nPCs Preparation (Windows In...   \n1077  Here in Soroush Pars, we are eager to add new ...   \n\n                                   pretoken_discription  \\\n0     mastering concepts network security maintainin...   \n1     we need technical manager guide technical team...   \n2     one sub -sectors oil industry provide committe...   \n4     familiar programming software development lang...   \n5     job description  ● perform routine administrat...   \n...                                                 ...   \n1072   system partners solutions system   system sof...   \n1073  job description  - mastery optical fiber fiber...   \n1074  specialized tasks  detecting cyber attacks pro...   \n1075  job description   pcs preparation  windows ins...   \n1077  here soroush pars  eager add new colleagues fe...   \n\n                                           pretoken_tag  \n0     active directory server virtualization  esx vm...  \n1     mcsa mtcna a+ security+ network+ linux dhcp ac...  \n2                  server virtualization  esx vmware     \n4     c sql server mysql microsoft powerpoint ccna p...  \n5     git gitlab ansible linux zabbix prometheos doc...  \n...                                                 ...  \n1072  sql server microsoft word microsoft excel همکا...  \n1073                                    کاردانی کاردانی  \n1074                                      security+ ceh  \n1075                                 security+ network+  \n1077                 windows server sql server network+  \n\n[950 rows x 8 columns]",
      "text/html": "<div>\n<style scoped>\n    .dataframe tbody tr th:only-of-type {\n        vertical-align: middle;\n    }\n\n    .dataframe tbody tr th {\n        vertical-align: top;\n    }\n\n    .dataframe thead th {\n        text-align: right;\n    }\n</style>\n<table border=\"1\" class=\"dataframe\">\n  <thead>\n    <tr style=\"text-align: right;\">\n      <th></th>\n      <th>Unnamed: 0.1</th>\n      <th>Unnamed: 0</th>\n      <th>tag</th>\n      <th>discription</th>\n      <th>salary</th>\n      <th>discription_tr</th>\n      <th>pretoken_discription</th>\n      <th>pretoken_tag</th>\n    </tr>\n  </thead>\n  <tbody>\n    <tr>\n      <th>0</th>\n      <td>0</td>\n      <td>0</td>\n      <td>Active Directory Server Virtualization (ESX,VM...</td>\n      <td>تسلط به مفاهیم امنیت شبکه و حفظ و ارتقای آن\\nت...</td>\n      <td>none</td>\n      <td>Mastering the concepts of network security and...</td>\n      <td>mastering concepts network security maintainin...</td>\n      <td>active directory server virtualization  esx vm...</td>\n    </tr>\n    <tr>\n      <th>1</th>\n      <td>1</td>\n      <td>1</td>\n      <td>MCSA MTCNA A+ Security+ Network+ Linux DHCP Ac...</td>\n      <td>ما در تیم فنی ماهان شبکه ایرانیان نیاز به یک م...</td>\n      <td>none</td>\n      <td>We need a technical manager to guide the techn...</td>\n      <td>we need technical manager guide technical team...</td>\n      <td>mcsa mtcna a+ security+ network+ linux dhcp ac...</td>\n    </tr>\n    <tr>\n      <th>2</th>\n      <td>2</td>\n      <td>2</td>\n      <td>Server Virtualization (ESX,VMware and …)</td>\n      <td>یکی از بخش های زیرمجموعه صنعت نفت به منظور تام...</td>\n      <td>none</td>\n      <td>One of the sub -sectors of the oil industry to...</td>\n      <td>one sub -sectors oil industry provide committe...</td>\n      <td>server virtualization  esx vmware</td>\n    </tr>\n    <tr>\n      <th>4</th>\n      <td>4</td>\n      <td>4</td>\n      <td>C Sql Server MySql Microsoft Powerpoint CCNA P...</td>\n      <td>آشنا به زبان های برنامه نویسی و طراحی و توسعه ...</td>\n      <td>none</td>\n      <td>Familiar with programming and software develop...</td>\n      <td>familiar programming software development lang...</td>\n      <td>c sql server mysql microsoft powerpoint ccna p...</td>\n    </tr>\n    <tr>\n      <th>5</th>\n      <td>5</td>\n      <td>5</td>\n      <td>GIT Gitlab Ansible Linux Zabbix Prometheos Doc...</td>\n      <td>Job Description:\\n● Perform routine administra...</td>\n      <td>none</td>\n      <td>Job Description:\\n● Perform routine administra...</td>\n      <td>job description  ● perform routine administrat...</td>\n      <td>git gitlab ansible linux zabbix prometheos doc...</td>\n    </tr>\n    <tr>\n      <th>...</th>\n      <td>...</td>\n      <td>...</td>\n      <td>...</td>\n      <td>...</td>\n      <td>...</td>\n      <td>...</td>\n      <td>...</td>\n      <td>...</td>\n    </tr>\n    <tr>\n      <th>1072</th>\n      <td>1072</td>\n      <td>14</td>\n      <td>Sql Server Microsoft Word Microsoft Excel همکا...</td>\n      <td>(راهبرسیستم های راهکاران همکاران سیستم)(پشتیبا...</td>\n      <td>none</td>\n      <td>(System Partners Solutions System) (System Sof...</td>\n      <td>system partners solutions system   system sof...</td>\n      <td>sql server microsoft word microsoft excel همکا...</td>\n    </tr>\n    <tr>\n      <th>1073</th>\n      <td>1073</td>\n      <td>15</td>\n      <td>کاردانی کاردانی</td>\n      <td>شرح شغل:\\n- تسلط بر فیبر نوری و شبکه های مبتنی...</td>\n      <td>none</td>\n      <td>job description:\\n- Mastery of optical fiber a...</td>\n      <td>job description  - mastery optical fiber fiber...</td>\n      <td>کاردانی کاردانی</td>\n    </tr>\n    <tr>\n      <th>1074</th>\n      <td>1074</td>\n      <td>16</td>\n      <td>Security+ CEH</td>\n      <td>وظایف تخصصی:\\nتشخیص  حملات سایبری و ارائه راهک...</td>\n      <td>none</td>\n      <td>Specialized tasks:\\nDetecting cyber attacks an...</td>\n      <td>specialized tasks  detecting cyber attacks pro...</td>\n      <td>security+ ceh</td>\n    </tr>\n    <tr>\n      <th>1075</th>\n      <td>1075</td>\n      <td>17</td>\n      <td>Security+ Network+</td>\n      <td>شرح شغل : \\nآماده سازی رایانه ها ( نصب ویندوز ...</td>\n      <td>none</td>\n      <td>job description :\\nPCs Preparation (Windows In...</td>\n      <td>job description   pcs preparation  windows ins...</td>\n      <td>security+ network+</td>\n    </tr>\n    <tr>\n      <th>1077</th>\n      <td>1077</td>\n      <td>19</td>\n      <td>Windows Server Sql Server Network+</td>\n      <td>ما اینجا در سروشان پارس، مشتاقیم به اضافه شدن ...</td>\n      <td>none</td>\n      <td>Here in Soroush Pars, we are eager to add new ...</td>\n      <td>here soroush pars  eager add new colleagues fe...</td>\n      <td>windows server sql server network+</td>\n    </tr>\n  </tbody>\n</table>\n<p>950 rows × 8 columns</p>\n</div>"
     },
     "execution_count": 12,
     "metadata": {},
     "output_type": "execute_result"
    }
   ],
   "source": [
    "#calling pretokenization_cleaning (list comprehension style)\n",
    "df_nd['pretoken_discription']=[pretokenization_cleaning(sentence) for sentence in df_nd['discription_tr']]\n",
    "df_nd['pretoken_tag']=[pretokenization_cleaning(sentence) for sentence in df_nd['tag']]\n",
    "df_nd"
   ],
   "metadata": {
    "collapsed": false
   }
  },
  {
   "cell_type": "markdown",
   "source": [
    "## 3. Tokenization"
   ],
   "metadata": {
    "collapsed": false
   }
  },
  {
   "cell_type": "code",
   "execution_count": 13,
   "outputs": [],
   "source": [
    "#calling tokenize (list comprehension style)\n",
    "df_nd['token_discription']=[tokenize(sentence) for sentence in df_nd['pretoken_discription']]\n",
    "df_nd['token_tag']=[tokenize(sentence) for sentence in df_nd['pretoken_tag']]\n"
   ],
   "metadata": {
    "collapsed": false
   }
  },
  {
   "cell_type": "markdown",
   "source": [
    "## 2. Stemming (optional)"
   ],
   "metadata": {
    "collapsed": false
   }
  },
  {
   "cell_type": "code",
   "execution_count": 24,
   "outputs": [
    {
     "data": {
      "text/plain": "    Unnamed: 0                                       title  \\\n4            4                  Quality Assurance Engineer   \n17          17                                 QA Engineer   \n27          27                      Test & Launch Engineer   \n40          40                   Supplier Quality Engineer   \n57          57  Finxera - ETL Test Engineer - SQL/Power BI   \n\n                        subtitle  \\\n4    Omaha, Nebraska, États-Unis   \n17  Denver, Colorado, États-Unis   \n27          Singapour, Singapour   \n40  Oldsmar, Floride, États-Unis   \n57  Chandigarh, Chandigarh, Inde   \n\n                                                  inf seniority level  \\\n4   Aviture is seeking an experienced quality assu...         Manager   \n17  About us:\\n\\nAt Cypris, we're building the sin...  Premier emploi   \n27  Pundi X is a blockchain-based fintech company ...         Manager   \n40  Job Description\\n\\nJob Title Quality Assurance...  Premier emploi   \n57  Job Description\\n\\nSummary :\\n\\nThe data scien...  Premier emploi   \n\n   Employmenttype                                 job_function  \\\n4     Temps plein                             Contrôle qualité   \n17    Temps plein                                   Ingénierie   \n27    Temps plein  Ingénierie et Technologies de l’information   \n40    Temps plein                             Contrôle qualité   \n57    Temps plein  Ingénierie et Technologies de l’information   \n\n                               Industries  \\\n4    Technologie, information et Internet   \n17   Technologie, information et Internet   \n27      Services et conseil informatiques   \n40                            Recrutement   \n57  Infrastructure et analyses de données   \n\n                                                 link  \\\n4   https://www.linkedin.com/jobs/view/quality-ass...   \n17  https://www.linkedin.com/jobs/view/qa-engineer...   \n27  https://sg.linkedin.com/jobs/view/test-launch-...   \n40  https://www.linkedin.com/jobs/view/supplier-qu...   \n57  https://in.linkedin.com/jobs/view/finxera-etl-...   \n\n                                               inf_tr  \\\n4   Aviture is seeking an experienced quality assu...   \n17  About us:\\n\\nAt Cypris, we're building the sin...   \n27  Pundi X is a blockchain-based fintech company ...   \n40  Job Description\\n\\nJob Title Quality Assurance...   \n57  Job Description\\n\\nSummary :\\n\\nThe data scien...   \n\n                                             pretoken  \\\n4   aviture seeking experienced quality assurance ...   \n17  about us  at cypris  we are building single ec...   \n27  pundi x blockchain-based fintech company missi...   \n40  job description job title quality assurance en...   \n57  job description summary   the data science tea...   \n\n                                                token  \\\n4   [aviture, seeking, experienced, quality, assur...   \n17  [about, us, at, cypris, we, are, building, sin...   \n27  [pundi, x, blockchain-based, fintech, company,...   \n40  [job, description, job, title, quality, assura...   \n57  [job, description, summary, the, data, science...   \n\n                                              stemmed  \n4   [avitur, seek, experienc, qualiti, assur, engi...  \n17  [about, us, at, cypri, we, are, build, singl, ...  \n27  [pundi, x, blockchain-bas, fintech, compani, m...  \n40  [job, descript, job, titl, qualiti, assur, eng...  \n57  [job, descript, summari, the, data, scienc, te...  ",
      "text/html": "<div>\n<style scoped>\n    .dataframe tbody tr th:only-of-type {\n        vertical-align: middle;\n    }\n\n    .dataframe tbody tr th {\n        vertical-align: top;\n    }\n\n    .dataframe thead th {\n        text-align: right;\n    }\n</style>\n<table border=\"1\" class=\"dataframe\">\n  <thead>\n    <tr style=\"text-align: right;\">\n      <th></th>\n      <th>Unnamed: 0</th>\n      <th>title</th>\n      <th>subtitle</th>\n      <th>inf</th>\n      <th>seniority level</th>\n      <th>Employmenttype</th>\n      <th>job_function</th>\n      <th>Industries</th>\n      <th>link</th>\n      <th>inf_tr</th>\n      <th>pretoken</th>\n      <th>token</th>\n      <th>stemmed</th>\n    </tr>\n  </thead>\n  <tbody>\n    <tr>\n      <th>4</th>\n      <td>4</td>\n      <td>Quality Assurance Engineer</td>\n      <td>Omaha, Nebraska, États-Unis</td>\n      <td>Aviture is seeking an experienced quality assu...</td>\n      <td>Manager</td>\n      <td>Temps plein</td>\n      <td>Contrôle qualité</td>\n      <td>Technologie, information et Internet</td>\n      <td>https://www.linkedin.com/jobs/view/quality-ass...</td>\n      <td>Aviture is seeking an experienced quality assu...</td>\n      <td>aviture seeking experienced quality assurance ...</td>\n      <td>[aviture, seeking, experienced, quality, assur...</td>\n      <td>[avitur, seek, experienc, qualiti, assur, engi...</td>\n    </tr>\n    <tr>\n      <th>17</th>\n      <td>17</td>\n      <td>QA Engineer</td>\n      <td>Denver, Colorado, États-Unis</td>\n      <td>About us:\\n\\nAt Cypris, we're building the sin...</td>\n      <td>Premier emploi</td>\n      <td>Temps plein</td>\n      <td>Ingénierie</td>\n      <td>Technologie, information et Internet</td>\n      <td>https://www.linkedin.com/jobs/view/qa-engineer...</td>\n      <td>About us:\\n\\nAt Cypris, we're building the sin...</td>\n      <td>about us  at cypris  we are building single ec...</td>\n      <td>[about, us, at, cypris, we, are, building, sin...</td>\n      <td>[about, us, at, cypri, we, are, build, singl, ...</td>\n    </tr>\n    <tr>\n      <th>27</th>\n      <td>27</td>\n      <td>Test &amp; Launch Engineer</td>\n      <td>Singapour, Singapour</td>\n      <td>Pundi X is a blockchain-based fintech company ...</td>\n      <td>Manager</td>\n      <td>Temps plein</td>\n      <td>Ingénierie et Technologies de l’information</td>\n      <td>Services et conseil informatiques</td>\n      <td>https://sg.linkedin.com/jobs/view/test-launch-...</td>\n      <td>Pundi X is a blockchain-based fintech company ...</td>\n      <td>pundi x blockchain-based fintech company missi...</td>\n      <td>[pundi, x, blockchain-based, fintech, company,...</td>\n      <td>[pundi, x, blockchain-bas, fintech, compani, m...</td>\n    </tr>\n    <tr>\n      <th>40</th>\n      <td>40</td>\n      <td>Supplier Quality Engineer</td>\n      <td>Oldsmar, Floride, États-Unis</td>\n      <td>Job Description\\n\\nJob Title Quality Assurance...</td>\n      <td>Premier emploi</td>\n      <td>Temps plein</td>\n      <td>Contrôle qualité</td>\n      <td>Recrutement</td>\n      <td>https://www.linkedin.com/jobs/view/supplier-qu...</td>\n      <td>Job Description\\n\\nJob Title Quality Assurance...</td>\n      <td>job description job title quality assurance en...</td>\n      <td>[job, description, job, title, quality, assura...</td>\n      <td>[job, descript, job, titl, qualiti, assur, eng...</td>\n    </tr>\n    <tr>\n      <th>57</th>\n      <td>57</td>\n      <td>Finxera - ETL Test Engineer - SQL/Power BI</td>\n      <td>Chandigarh, Chandigarh, Inde</td>\n      <td>Job Description\\n\\nSummary :\\n\\nThe data scien...</td>\n      <td>Premier emploi</td>\n      <td>Temps plein</td>\n      <td>Ingénierie et Technologies de l’information</td>\n      <td>Infrastructure et analyses de données</td>\n      <td>https://in.linkedin.com/jobs/view/finxera-etl-...</td>\n      <td>Job Description\\n\\nSummary :\\n\\nThe data scien...</td>\n      <td>job description summary   the data science tea...</td>\n      <td>[job, description, summary, the, data, science...</td>\n      <td>[job, descript, summari, the, data, scienc, te...</td>\n    </tr>\n  </tbody>\n</table>\n</div>"
     },
     "execution_count": 24,
     "metadata": {},
     "output_type": "execute_result"
    }
   ],
   "source": [
    "#calling stemming (list comprehension style)\n",
    "df_nd['stemmed']=[stemming(tokenize(sentence)) for sentence in df_nd['pretoken']]\n",
    "df_nd.head()"
   ],
   "metadata": {
    "collapsed": false
   }
  },
  {
   "cell_type": "markdown",
   "source": [
    "## 4. Lemmatizing (optional)"
   ],
   "metadata": {
    "collapsed": false
   }
  },
  {
   "cell_type": "code",
   "execution_count": 25,
   "outputs": [],
   "source": [
    "#calling stemming (list comprehension style)\n",
    "df_nd['lemmatized']=[lemmatize(tokenize(sentence)) for sentence in df_nd['pretoken']]\n"
   ],
   "metadata": {
    "collapsed": false
   }
  },
  {
   "cell_type": "markdown",
   "source": [
    "## 5. Post-Tokenization Cleaning"
   ],
   "metadata": {
    "collapsed": false
   }
  },
  {
   "cell_type": "markdown",
   "source": [
    "# Export as CSV"
   ],
   "metadata": {
    "collapsed": false
   }
  },
  {
   "cell_type": "code",
   "execution_count": 14,
   "outputs": [],
   "source": [
    "#(1)export the final dataset\n",
    "import csv\n",
    "final_csv=r'D:\\pycharm projects\\crawl linkedin\\data\\jobvision\\result\\preprocess\\result_network_tr.tokenized.stemmed.lemmatized.csv'\n",
    "def export_csv():\n",
    "  #get list of columns from df\n",
    "  listHeader=list(df_nd.columns.values)\n",
    "  #insert index column header to the first pos in list\n",
    "  listHeader.insert(0,'index')\n",
    "  #export df to csv\n",
    "  #set the quoting to be QUOTE_ALL\n",
    "  df_nd.to_csv(final_csv,columns=df_nd.columns.values,quoting=csv.QUOTE_ALL)\n",
    "  #in case pandas does not create header for the index column, do it manually.\n",
    "  #create a new header line\n",
    "  line_head= ','.join(listHeader)+'\\n'\n",
    "\n",
    "  with open(final_csv) as f:\n",
    "    lines = f.readlines()\n",
    "\n",
    "  #replace old header with new header\n",
    "  lines[0] = line_head\n",
    "\n",
    "  with open(final_csv, 'w') as f:\n",
    "    f.writelines(lines)\n",
    "\n",
    "export_csv()"
   ],
   "metadata": {
    "collapsed": false
   }
  },
  {
   "cell_type": "markdown",
   "source": [
    "# test data"
   ],
   "metadata": {
    "collapsed": false
   }
  },
  {
   "cell_type": "code",
   "execution_count": 27,
   "outputs": [
    {
     "name": "stdout",
     "output_type": "stream",
     "text": [
      "<class 'pandas.core.frame.DataFrame'>\n",
      "RangeIndex: 2316 entries, 0 to 2315\n",
      "Data columns (total 14 columns):\n",
      " #   Column           Non-Null Count  Dtype \n",
      "---  ------           --------------  ----- \n",
      " 0   index            2316 non-null   int64 \n",
      " 1   title            2316 non-null   object\n",
      " 2   subtitle         2316 non-null   object\n",
      " 3   seniority level  2316 non-null   object\n",
      " 4   Employmenttype   2316 non-null   object\n",
      " 5   job_function     2316 non-null   object\n",
      " 6   Industries       2316 non-null   object\n",
      " 7   link             2316 non-null   object\n",
      " 8   inf_tr           2316 non-null   object\n",
      " 9   pretoken         2316 non-null   object\n",
      " 10  token            2316 non-null   object\n",
      " 11  stemmed          2316 non-null   object\n",
      " 12  lemmatized       2316 non-null   object\n",
      " 13  posttoken        2316 non-null   object\n",
      "dtypes: int64(1), object(13)\n",
      "memory usage: 253.4+ KB\n",
      "None\n"
     ]
    }
   ],
   "source": [
    "df_test=pd.read_csv(final_csv)\n",
    "print(df_test.info())"
   ],
   "metadata": {
    "collapsed": false
   }
  },
  {
   "cell_type": "code",
   "execution_count": 30,
   "outputs": [
    {
     "data": {
      "text/plain": "{'a',\n 'about',\n 'above',\n 'after',\n 'again',\n 'against',\n 'ain',\n 'all',\n 'am',\n 'an',\n 'and',\n 'any',\n 'are',\n 'aren',\n \"aren't\",\n 'as',\n 'at',\n 'be',\n 'because',\n 'been',\n 'before',\n 'being',\n 'below',\n 'between',\n 'both',\n 'but',\n 'by',\n 'can',\n 'couldn',\n \"couldn't\",\n 'd',\n 'did',\n 'didn',\n \"didn't\",\n 'do',\n 'does',\n 'doesn',\n \"doesn't\",\n 'doing',\n 'don',\n \"don't\",\n 'down',\n 'during',\n 'each',\n 'few',\n 'for',\n 'from',\n 'further',\n 'had',\n 'hadn',\n \"hadn't\",\n 'has',\n 'hasn',\n \"hasn't\",\n 'have',\n 'haven',\n \"haven't\",\n 'having',\n 'he',\n 'her',\n 'here',\n 'hers',\n 'herself',\n 'him',\n 'himself',\n 'his',\n 'how',\n 'i',\n 'if',\n 'in',\n 'into',\n 'is',\n 'isn',\n \"isn't\",\n 'it',\n \"it's\",\n 'its',\n 'itself',\n 'just',\n 'll',\n 'm',\n 'ma',\n 'me',\n 'mightn',\n \"mightn't\",\n 'more',\n 'most',\n 'mustn',\n \"mustn't\",\n 'my',\n 'myself',\n 'needn',\n \"needn't\",\n 'no',\n 'nor',\n 'not',\n 'now',\n 'o',\n 'of',\n 'off',\n 'on',\n 'once',\n 'only',\n 'or',\n 'other',\n 'our',\n 'ours',\n 'ourselves',\n 'out',\n 'over',\n 'own',\n 're',\n 's',\n 'same',\n 'shan',\n \"shan't\",\n 'she',\n \"she's\",\n 'should',\n \"should've\",\n 'shouldn',\n \"shouldn't\",\n 'so',\n 'some',\n 'such',\n 't',\n 'than',\n 'that',\n \"that'll\",\n 'the',\n 'their',\n 'theirs',\n 'them',\n 'themselves',\n 'then',\n 'there',\n 'these',\n 'they',\n 'this',\n 'those',\n 'through',\n 'to',\n 'too',\n 'under',\n 'until',\n 'up',\n 've',\n 'very',\n 'was',\n 'wasn',\n \"wasn't\",\n 'we',\n 'were',\n 'weren',\n \"weren't\",\n 'what',\n 'when',\n 'where',\n 'which',\n 'while',\n 'who',\n 'whom',\n 'why',\n 'will',\n 'with',\n 'won',\n \"won't\",\n 'wouldn',\n \"wouldn't\",\n 'y',\n 'you',\n \"you'd\",\n \"you'll\",\n \"you're\",\n \"you've\",\n 'your',\n 'yours',\n 'yourself',\n 'yourselves'}"
     },
     "execution_count": 30,
     "metadata": {},
     "output_type": "execute_result"
    }
   ],
   "source": [
    "stop_words"
   ],
   "metadata": {
    "collapsed": false
   }
  },
  {
   "cell_type": "code",
   "execution_count": null,
   "outputs": [],
   "source": [],
   "metadata": {
    "collapsed": false
   }
  }
 ],
 "metadata": {
  "kernelspec": {
   "display_name": "Python 3",
   "language": "python",
   "name": "python3"
  },
  "language_info": {
   "codemirror_mode": {
    "name": "ipython",
    "version": 2
   },
   "file_extension": ".py",
   "mimetype": "text/x-python",
   "name": "python",
   "nbconvert_exporter": "python",
   "pygments_lexer": "ipython2",
   "version": "2.7.6"
  }
 },
 "nbformat": 4,
 "nbformat_minor": 0
}
