{
 "cells": [
  {
   "cell_type": "code",
   "execution_count": 2,
   "metadata": {
    "collapsed": true
   },
   "outputs": [],
   "source": [
    "#Import Packages\n",
    "from selenium import webdriver\n",
    "import time\n",
    "import pandas as pd\n",
    "import os\n",
    "import re\n",
    "\n",
    "\n",
    "from selenium.webdriver.support.select import Select\n",
    "from selenium.webdriver.support.ui import WebDriverWait\n",
    "from selenium.webdriver.common.by import By\n",
    "from selenium.webdriver.support import expected_conditions as EC\n",
    "import requests\n",
    "from bs4 import BeautifulSoup"
   ]
  },
  {
   "cell_type": "markdown",
   "source": [
    "# Getting the link of all ads"
   ],
   "metadata": {
    "collapsed": false
   }
  },
  {
   "cell_type": "code",
   "execution_count": 4,
   "outputs": [
    {
     "name": "stdout",
     "output_type": "stream",
     "text": [
      "1\n",
      "2\n",
      "3\n",
      "4\n"
     ]
    },
    {
     "ename": "InvalidSessionIdException",
     "evalue": "Message: invalid session id\nStacktrace:\nBacktrace:\n\tGetHandleVerifier [0x00007FF623CF4A62+57106]\n\t(No symbol) [0x00007FF623C6CF52]\n\t(No symbol) [0x00007FF623B3E17D]\n\t(No symbol) [0x00007FF623B6CA69]\n\t(No symbol) [0x00007FF623B6E064]\n\tGetHandleVerifier [0x00007FF623FA4222+2873042]\n\tGetHandleVerifier [0x00007FF623FF6590+3209792]\n\tGetHandleVerifier [0x00007FF623FEF3AF+3180639]\n\tGetHandleVerifier [0x00007FF623D85F25+652245]\n\t(No symbol) [0x00007FF623C78618]\n\t(No symbol) [0x00007FF623C747C4]\n\t(No symbol) [0x00007FF623C748BC]\n\t(No symbol) [0x00007FF623C64C33]\n\tBaseThreadInitThunk [0x00007FF8CDC755A0+16]\n\tRtlUserThreadStart [0x00007FF8CE86485B+43]\n",
     "output_type": "error",
     "traceback": [
      "\u001B[1;31m---------------------------------------------------------------------------\u001B[0m",
      "\u001B[1;31mInvalidSessionIdException\u001B[0m                 Traceback (most recent call last)",
      "Cell \u001B[1;32mIn[4], line 46\u001B[0m\n\u001B[0;32m     43\u001B[0m df \u001B[38;5;241m=\u001B[39m pd\u001B[38;5;241m.\u001B[39mDataFrame({\u001B[38;5;124m'\u001B[39m\u001B[38;5;124mlink\u001B[39m\u001B[38;5;124m'\u001B[39m:hrefList2})\n\u001B[0;32m     44\u001B[0m df\u001B[38;5;241m.\u001B[39mto_csv(\u001B[38;5;124mr\u001B[39m\u001B[38;5;124m'\u001B[39m\u001B[38;5;124mD:\u001B[39m\u001B[38;5;124m\\\u001B[39m\u001B[38;5;124mpycharm projects\u001B[39m\u001B[38;5;124m\\\u001B[39m\u001B[38;5;124mcrawl linkedin\u001B[39m\u001B[38;5;124m\\\u001B[39m\u001B[38;5;124mdata\u001B[39m\u001B[38;5;124m\\\u001B[39m\u001B[38;5;124mjobvision\u001B[39m\u001B[38;5;124m\\\u001B[39m\u001B[38;5;124mlist\u001B[39m\u001B[38;5;124m\\\u001B[39m\u001B[38;5;124mresult_jobvi_dataALL.csv\u001B[39m\u001B[38;5;124m'\u001B[39m)\n\u001B[1;32m---> 46\u001B[0m \u001B[43mdriver\u001B[49m\u001B[38;5;241;43m.\u001B[39;49m\u001B[43mclose\u001B[49m\u001B[43m(\u001B[49m\u001B[43m)\u001B[49m\n",
      "File \u001B[1;32mD:\\pycharm projects\\pythonProject1\\venv\\lib\\site-packages\\selenium\\webdriver\\remote\\webdriver.py:456\u001B[0m, in \u001B[0;36mWebDriver.close\u001B[1;34m(self)\u001B[0m\n\u001B[0;32m    448\u001B[0m \u001B[38;5;28;01mdef\u001B[39;00m \u001B[38;5;21mclose\u001B[39m(\u001B[38;5;28mself\u001B[39m) \u001B[38;5;241m-\u001B[39m\u001B[38;5;241m>\u001B[39m \u001B[38;5;28;01mNone\u001B[39;00m:\n\u001B[0;32m    449\u001B[0m \u001B[38;5;250m    \u001B[39m\u001B[38;5;124;03m\"\"\"Closes the current window.\u001B[39;00m\n\u001B[0;32m    450\u001B[0m \n\u001B[0;32m    451\u001B[0m \u001B[38;5;124;03m    :Usage:\u001B[39;00m\n\u001B[1;32m   (...)\u001B[0m\n\u001B[0;32m    454\u001B[0m \u001B[38;5;124;03m            driver.close()\u001B[39;00m\n\u001B[0;32m    455\u001B[0m \u001B[38;5;124;03m    \"\"\"\u001B[39;00m\n\u001B[1;32m--> 456\u001B[0m     \u001B[38;5;28;43mself\u001B[39;49m\u001B[38;5;241;43m.\u001B[39;49m\u001B[43mexecute\u001B[49m\u001B[43m(\u001B[49m\u001B[43mCommand\u001B[49m\u001B[38;5;241;43m.\u001B[39;49m\u001B[43mCLOSE\u001B[49m\u001B[43m)\u001B[49m\n",
      "File \u001B[1;32mD:\\pycharm projects\\pythonProject1\\venv\\lib\\site-packages\\selenium\\webdriver\\remote\\webdriver.py:345\u001B[0m, in \u001B[0;36mWebDriver.execute\u001B[1;34m(self, driver_command, params)\u001B[0m\n\u001B[0;32m    343\u001B[0m response \u001B[38;5;241m=\u001B[39m \u001B[38;5;28mself\u001B[39m\u001B[38;5;241m.\u001B[39mcommand_executor\u001B[38;5;241m.\u001B[39mexecute(driver_command, params)\n\u001B[0;32m    344\u001B[0m \u001B[38;5;28;01mif\u001B[39;00m response:\n\u001B[1;32m--> 345\u001B[0m     \u001B[38;5;28;43mself\u001B[39;49m\u001B[38;5;241;43m.\u001B[39;49m\u001B[43merror_handler\u001B[49m\u001B[38;5;241;43m.\u001B[39;49m\u001B[43mcheck_response\u001B[49m\u001B[43m(\u001B[49m\u001B[43mresponse\u001B[49m\u001B[43m)\u001B[49m\n\u001B[0;32m    346\u001B[0m     response[\u001B[38;5;124m\"\u001B[39m\u001B[38;5;124mvalue\u001B[39m\u001B[38;5;124m\"\u001B[39m] \u001B[38;5;241m=\u001B[39m \u001B[38;5;28mself\u001B[39m\u001B[38;5;241m.\u001B[39m_unwrap_value(response\u001B[38;5;241m.\u001B[39mget(\u001B[38;5;124m\"\u001B[39m\u001B[38;5;124mvalue\u001B[39m\u001B[38;5;124m\"\u001B[39m, \u001B[38;5;28;01mNone\u001B[39;00m))\n\u001B[0;32m    347\u001B[0m     \u001B[38;5;28;01mreturn\u001B[39;00m response\n",
      "File \u001B[1;32mD:\\pycharm projects\\pythonProject1\\venv\\lib\\site-packages\\selenium\\webdriver\\remote\\errorhandler.py:229\u001B[0m, in \u001B[0;36mErrorHandler.check_response\u001B[1;34m(self, response)\u001B[0m\n\u001B[0;32m    227\u001B[0m         alert_text \u001B[38;5;241m=\u001B[39m value[\u001B[38;5;124m\"\u001B[39m\u001B[38;5;124malert\u001B[39m\u001B[38;5;124m\"\u001B[39m]\u001B[38;5;241m.\u001B[39mget(\u001B[38;5;124m\"\u001B[39m\u001B[38;5;124mtext\u001B[39m\u001B[38;5;124m\"\u001B[39m)\n\u001B[0;32m    228\u001B[0m     \u001B[38;5;28;01mraise\u001B[39;00m exception_class(message, screen, stacktrace, alert_text)  \u001B[38;5;66;03m# type: ignore[call-arg]  # mypy is not smart enough here\u001B[39;00m\n\u001B[1;32m--> 229\u001B[0m \u001B[38;5;28;01mraise\u001B[39;00m exception_class(message, screen, stacktrace)\n",
      "\u001B[1;31mInvalidSessionIdException\u001B[0m: Message: invalid session id\nStacktrace:\nBacktrace:\n\tGetHandleVerifier [0x00007FF623CF4A62+57106]\n\t(No symbol) [0x00007FF623C6CF52]\n\t(No symbol) [0x00007FF623B3E17D]\n\t(No symbol) [0x00007FF623B6CA69]\n\t(No symbol) [0x00007FF623B6E064]\n\tGetHandleVerifier [0x00007FF623FA4222+2873042]\n\tGetHandleVerifier [0x00007FF623FF6590+3209792]\n\tGetHandleVerifier [0x00007FF623FEF3AF+3180639]\n\tGetHandleVerifier [0x00007FF623D85F25+652245]\n\t(No symbol) [0x00007FF623C78618]\n\t(No symbol) [0x00007FF623C747C4]\n\t(No symbol) [0x00007FF623C748BC]\n\t(No symbol) [0x00007FF623C64C33]\n\tBaseThreadInitThunk [0x00007FF8CDC755A0+16]\n\tRtlUserThreadStart [0x00007FF8CE86485B+43]\n"
     ]
    }
   ],
   "source": [
    "\n",
    "\n",
    "from selenium import webdriver\n",
    "from selenium.webdriver.common.by import By\n",
    "\n",
    "# URL of the initial webpage\n",
    "base_url = \"https://jobvision.ir/jobs/category/data-science\"\n",
    "current_page = 1\n",
    "i=1\n",
    "max=4\n",
    "\n",
    "hrefList2 = []\n",
    "# Loop through pages\n",
    "while current_page<=max:\n",
    "    driver = webdriver.Chrome()\n",
    "    url = f\"{base_url}?page={current_page}\"\n",
    "\n",
    "    # Open the webpage\n",
    "    driver.get(url)\n",
    "\n",
    "    # Wait for the job listings to load\n",
    "    job_listings =driver.find_elements(By.TAG_NAME, \"job-card\")\n",
    "    x=0\n",
    "    # Extract href values\n",
    "    hrefList = []\n",
    "    for job in job_listings:\n",
    "        x +=1\n",
    "        link = job.find_element(By.TAG_NAME, \"a\").get_attribute(\"href\")\n",
    "        hrefList.append(link)\n",
    "        hrefList2.append(link)\n",
    "        df1 = pd.DataFrame({'link':hrefList})\n",
    "        df1.to_csv(r'D:\\pycharm projects\\crawl linkedin\\data\\jobvision\\list\\result_jobvi_data {}.csv'.format(current_page))\n",
    "\n",
    "\n",
    "    print(current_page)\n",
    "    current_page += 1\n",
    "    driver.close()\n",
    "\n",
    "\n",
    "df = pd.DataFrame({'link':hrefList2})\n",
    "df.to_csv(r'D:\\pycharm projects\\crawl linkedin\\data\\jobvision\\list\\result_jobvi_dataALL.csv')\n",
    "\n",
    "driver.close()"
   ],
   "metadata": {
    "collapsed": false
   }
  },
  {
   "cell_type": "markdown",
   "source": [
    "# get data from links"
   ],
   "metadata": {
    "collapsed": false
   }
  },
  {
   "cell_type": "code",
   "execution_count": null,
   "outputs": [
    {
     "name": "stdout",
     "output_type": "stream",
     "text": [
      "1\n"
     ]
    }
   ],
   "source": [
    "from selenium.common.exceptions import NoSuchElementException\n",
    "from selenium import webdriver\n",
    "import time\n",
    "import pandas as pd\n",
    "\n",
    "from selenium.webdriver.common.by import By\n",
    "\n",
    "\n",
    "\n",
    "for j in range(1,5):\n",
    "\n",
    "\n",
    "    df = pd.read_csv(r\"D:\\pycharm projects\\crawl linkedin\\data\\jobvision\\list\\result_jobvi_data {}.csv\".format(j),usecols=['link'])\n",
    "\n",
    "\n",
    "    dicrip_li = []\n",
    "    tag_li = []\n",
    "    salary_li = []\n",
    "\n",
    "    driver = webdriver.Chrome()\n",
    "    driver.implicitly_wait(5)\n",
    "\n",
    "\n",
    "\n",
    "    i=0\n",
    "    for index,row in df.iterrows():\n",
    "\n",
    "\n",
    "            try:\n",
    "                driver.get(row['link'])\n",
    "                time.sleep(2)\n",
    "\n",
    "\n",
    "\n",
    "\n",
    "                try:\n",
    "                    salary = driver.find_element(By.XPATH,'/html/body/app-root/div/app-job-detail-external/section/div/job-detail/section/div[4]/app-header-job-detail/header/div/div[2]/div/div[1]/div[1]/div[2]').text\n",
    "                except NoSuchElementException:\n",
    "                    salary = 'none'\n",
    "\n",
    "\n",
    "                try:\n",
    "                    req =driver.find_element(By.CLASS_NAME,'job-specification')\n",
    "                    discription = req.find_element(By.XPATH,'div[2]/div/div').text\n",
    "                except NoSuchElementException:\n",
    "                    discription = 'none'\n",
    "\n",
    "\n",
    "                try:\n",
    "                    req2 =req.find_elements(By.CLASS_NAME,'requirement-value')\n",
    "                    req3 =req2[len(req2)-1].find_elements(By.TAG_NAME,'app-tag')\n",
    "\n",
    "\n",
    "                    software = []\n",
    "                    for x in req3:\n",
    "\n",
    "                        software_tag = x.find_element(By.XPATH,'span/span[1]').text\n",
    "                        software.append(software_tag)\n",
    "\n",
    "                except NoSuchElementException:\n",
    "                    software = software.append('none')\n",
    "\n",
    "\n",
    "\n",
    "                tag_li.append(' '.join(software))\n",
    "                dicrip_li.append(discription)\n",
    "                salary_li.append(salary)\n",
    "\n",
    "\n",
    "\n",
    "\n",
    "\n",
    "            except NoSuchElementException:\n",
    "                    print(\"******NoSuchElementException*******\")\n",
    "            i = i +1\n",
    "            print(i)\n",
    "            if i==23:\n",
    "                break\n",
    "\n",
    "    df_new = pd.DataFrame({'tag': tag_li, 'discription': dicrip_li, 'salary':salary_li})\n",
    "\n",
    "    df_new.to_csv(r'D:\\pycharm projects\\crawl linkedin\\data\\jobvision\\list\\result_data {}.csv'.format(j))\n",
    "\n",
    "    time.sleep(5)\n",
    "    driver.close()\n",
    "    print(\"***********************************done{}************************************\".format(j))\n",
    "\n"
   ],
   "metadata": {
    "collapsed": false,
    "pycharm": {
     "is_executing": true
    }
   }
  },
  {
   "cell_type": "code",
   "execution_count": 121,
   "outputs": [],
   "source": [
    "df_new.to_csv(r'D:\\pycharm projects\\crawl linkedin\\data\\jobvision\\result\\result_datascience {}.csv'.format(1))"
   ],
   "metadata": {
    "collapsed": false
   }
  },
  {
   "cell_type": "markdown",
   "source": [],
   "metadata": {
    "collapsed": false
   }
  },
  {
   "cell_type": "code",
   "execution_count": 3,
   "outputs": [],
   "source": [
    "df = pd.DataFrame({'link':hrefList})\n",
    "df.to_csv(r'D:\\pycharm projects\\crawl linkedin\\data\\result_jobvi_Security .csv')"
   ],
   "metadata": {
    "collapsed": false
   }
  },
  {
   "cell_type": "markdown",
   "source": [
    "# Join CSVs"
   ],
   "metadata": {
    "collapsed": false
   }
  },
  {
   "cell_type": "code",
   "execution_count": null,
   "outputs": [],
   "source": [
    "import pandas as pd\n",
    "\n",
    "# Load the three CSV files\n",
    "df1 = pd.read_csv(r\"D:\\pycharm projects\\crawl linkedin\\data\\result_Data Analyst.csv\")\n",
    "df2 = pd.read_csv(r\"D:\\pycharm projects\\crawl linkedin\\data\\result_Data Analyst_0.csv\")\n",
    "df3 = pd.read_csv(r\"D:\\pycharm projects\\crawl linkedin\\data\\result_Data Analyst_1.csv\")\n",
    "df4 = pd.read_csv(r\"D:\\pycharm projects\\crawl linkedin\\data\\result_Data Analyst_2.csv\")\n",
    "\n",
    "# df1= df1.drop_duplicates(subset=['joblinks'])\n",
    "# df2= df2.drop_duplicates(subset=['joblinks'])\n",
    "# df3= df3.drop_duplicates(subset=['joblinks'])\n",
    "# df4= df4.drop_duplicates(subset=['joblinks'])\n",
    "\n",
    "\n",
    "# Concatenate the three DataFrames vertically (row-wise)\n",
    "result = pd.concat([df1, df2, df3, df4])\n",
    "# result = pd.concat([df1, df2]).drop_duplicates()\n",
    "\n",
    "# Save the result to a new CSV file\n",
    "result.to_csv(r'D:\\pycharm projects\\crawl linkedin\\joindata\\cybersecurity2.csv', index=False)"
   ],
   "metadata": {
    "collapsed": false
   }
  },
  {
   "cell_type": "code",
   "execution_count": null,
   "outputs": [],
   "source": [],
   "metadata": {
    "collapsed": false
   }
  }
 ],
 "metadata": {
  "kernelspec": {
   "display_name": "Python 3",
   "language": "python",
   "name": "python3"
  },
  "language_info": {
   "codemirror_mode": {
    "name": "ipython",
    "version": 2
   },
   "file_extension": ".py",
   "mimetype": "text/x-python",
   "name": "python",
   "nbconvert_exporter": "python",
   "pygments_lexer": "ipython2",
   "version": "2.7.6"
  }
 },
 "nbformat": 4,
 "nbformat_minor": 0
}
